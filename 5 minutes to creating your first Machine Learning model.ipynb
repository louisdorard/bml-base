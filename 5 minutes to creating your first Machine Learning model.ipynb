{
 "cells": [
  {
   "cell_type": "markdown",
   "metadata": {},
   "source": [
    "# 5 minutes to creating your first Machine Learning model\n",
    "\n",
    "There's a number of services out there that make Machine Learning accessible to the masses by abstracting away the complexities of creating predictive models from data. Here I want to show you how to use one of them, [BigML](https://bigml.com), through its API, in order to create a real estate pricing model.\n",
    "\n",
    "The idea is that you're given characteristics of a real estate property (e.g. number of bedrooms, surface, year of construction, etc.) and you input these into a \"model\" that will predict the property's value. To create this model, we'll just need to use some [example real-estate data that I've scraped from realtor.com using Import.io](http://blog.import.io/post/become-a-data-scientist-in-an-hour). The data contains 4776 rows (one per example property), it's available to [download as a CSV file](https://bml-data.s3.amazonaws.com/realtor-las-vegas.csv) or to [browse on Google Spreadsheets](https://docs.google.com/spreadsheets/d/1X7-xvzAx5d7aS6ZcTcNaUEH23ZWmB7vuGXYQ03B3yP8/edit?usp=sharing).\n",
    "\n",
    "In the following, we'll see how to upload the data to BigML, which will automatically create a predictive model, and how to query this model with any given set of real estate property characteristics. Check out [this blog post if you want to understand what happens behind the scenes, how Machine Learning works, and when it fails to work](https://louis-dorard.squarespace.com/blog/when-machine-learning-fails) (http://louisdorard.com/blog/when-machine-learning-fails).\n",
    "\n",
    "\n",
    "# This page is interactive\n",
    "\n",
    "The following is an IPython notebook to show you how to use the BigML API to...\n",
    " \n",
    " 1. create a model from data\n",
    " 2. make predictions with this model.\n",
    " \n",
    "IPython notebooks act as interactive web-based code tutorials. They are web pages in which there are blocks of code that you can edit and run. The code is run on the same server that serves the page and the output is displayed on the page. You'll be able to edit and run the blocks of code below by positionning your cursor inside them and pressing Shift+Enter.\n",
    "\n",
    "\n",
    "# 0. Initialize the BigML API\n",
    "\n",
    "First of all, you should create a free BigML account at [https://bigml.com/accounts/register/](https://bigml.com/accounts/register/) (it takes 2 minutes, literally).\n",
    "\n",
    "## Authentication variables\n",
    "\n",
    "Authentication is performed using your BigML username and API key, which can be found at [https://bigml.com/account/apikey](https://bigml.com/account/apikey)"
   ]
  },
  {
   "cell_type": "code",
   "execution_count": null,
   "metadata": {
    "collapsed": false
   },
   "outputs": [],
   "source": [
    "BIGML_USERNAME = '' # fill in your username between the quotes\n",
    "BIGML_API_KEY = '' # fill in your API key\n",
    "BIGML_AUTH = 'username=' + BIGML_USERNAME + ';api_key=' + BIGML_API_KEY # leave as it is\n",
    "print \"Authentication variables set!\""
   ]
  },
  {
   "cell_type": "markdown",
   "metadata": {},
   "source": [
    "## API wrapper\n",
    "\n",
    "We create an _api_ object which will be used to communicate with the BigML API.\n",
    "\n",
    "Note that BigML has two ways of functioning: production mode or development mode. Here, we choose to use the latter since it's free!"
   ]
  },
  {
   "cell_type": "code",
   "execution_count": null,
   "metadata": {
    "collapsed": false
   },
   "outputs": [],
   "source": [
    "# Uncomment lines below in case this block doesn't work\n",
    "#import pip\n",
    "#pip.main(['install', 'bigml'])\n",
    "\n",
    "from bigml.api import BigML\n",
    "\n",
    "# Assuming you installed the BigML Python wrappers (with the 'pip install bigml' command, see above)\n",
    "# Assuming BIGML_USERNAME and BIGML_API_KEY were defined as shell environment variables\n",
    "# otherwise: api=BigML('your username here','your API key here',dev_mode=True)\n",
    "\n",
    "api=BigML(dev_mode=True) # use BigML in development mode for unlimited usage\n",
    "print \"Wrapper ready to use!\""
   ]
  },
  {
   "cell_type": "markdown",
   "metadata": {},
   "source": [
    "# 1. Create a predictive model\n",
    "\n",
    "## Specify training data to use\n",
    "\n",
    "BigML makes a distinction between the origin of the data (the \"source\") and the actual data that's being used for training (the \"dataset\"). We first create a data source by specifying a csv file to use (hosted on Amazon S3 in this example)."
   ]
  },
  {
   "cell_type": "code",
   "execution_count": null,
   "metadata": {
    "collapsed": false
   },
   "outputs": [],
   "source": [
    "source = api.create_source('s3://bml-data/realtor-las-vegas.csv', {\"name\": \"Realtor LV\"})"
   ]
  },
  {
   "cell_type": "markdown",
   "metadata": {},
   "source": [
    "API calls are asynchronous, so we use _api.ok_ to make sure that the request has finished before we move on to the rest."
   ]
  },
  {
   "cell_type": "code",
   "execution_count": null,
   "metadata": {
    "collapsed": false
   },
   "outputs": [],
   "source": [
    "api.ok(source) # shows \"True\" when source has been created"
   ]
  },
  {
   "cell_type": "markdown",
   "metadata": {},
   "source": [
    "The source can be found on the BigML.com web interface at the following URL:"
   ]
  },
  {
   "cell_type": "code",
   "execution_count": null,
   "metadata": {
    "collapsed": false
   },
   "outputs": [],
   "source": [
    "BIGML_AUTH = %env BIGML_AUTH\n",
    "print \"https://bigml.com/dashboard/\"+str(source['resource'])+\"?\"+BIGML_AUTH"
   ]
  },
  {
   "cell_type": "markdown",
   "metadata": {},
   "source": [
    "Open the link in a new tab. If it doesn't work, check that you're logged in on the [BigML.com](https://www.bigml.com/) web interface and make sure that the toggle on the right is at \"development\" (and not \"production\")."
   ]
  },
  {
   "cell_type": "markdown",
   "metadata": {},
   "source": [
    "We now create a dataset."
   ]
  },
  {
   "cell_type": "code",
   "execution_count": null,
   "metadata": {
    "collapsed": false
   },
   "outputs": [],
   "source": [
    "dataset = api.create_dataset(source, {\"name\": \"Realtor LV dataset\"})\n",
    "api.ok(dataset)\n",
    "print \"Dataset ready and available at https://bigml.com/dashboard/\"+str(dataset['resource'])+\"?\"+BIGML_AUTH"
   ]
  },
  {
   "cell_type": "markdown",
   "metadata": {},
   "source": [
    "If you click on the outputted link above, it will take you to a histogram view of the data on the BigML dashboard."
   ]
  },
  {
   "cell_type": "markdown",
   "metadata": {},
   "source": [
    "## Learn a model from the data\n",
    "\n",
    "This is done in just one command — there are no parameters to set whatsoever."
   ]
  },
  {
   "cell_type": "code",
   "execution_count": null,
   "metadata": {
    "collapsed": false
   },
   "outputs": [],
   "source": [
    "model = api.create_model(dataset)\n",
    "print \"'model' object created!\""
   ]
  },
  {
   "cell_type": "markdown",
   "metadata": {},
   "source": [
    "BigML uses decision tree models. The tree that's been learnt from your data can be seen at:"
   ]
  },
  {
   "cell_type": "code",
   "execution_count": null,
   "metadata": {
    "collapsed": false
   },
   "outputs": [],
   "source": [
    "api.ok(model) # making sure the model is ready\n",
    "print \"Model ready and available at https://bigml.com/dashboard/\"+str(model['resource'])+\"?\"+BIGML_AUTH"
   ]
  },
  {
   "cell_type": "markdown",
   "metadata": {},
   "source": [
    "# 2. Make predictions"
   ]
  },
  {
   "cell_type": "markdown",
   "metadata": {},
   "source": [
    "Let's say we want to predict the value (in USD) of a real estate property characterized by the following attributes (go on and edit the values if you want):"
   ]
  },
  {
   "cell_type": "code",
   "execution_count": null,
   "metadata": {
    "collapsed": false
   },
   "outputs": [],
   "source": [
    "# the strings below correspond to headers of the realtor-las-vegas.csv file we used to create the model\n",
    "new_input = {\"bedrooms\": 4, \"full_bathrooms\": 2, \"type\": \"Single Family Home\", \"size_sqft\": 1500}\n",
    "print \"'new_input' object created!\""
   ]
  },
  {
   "cell_type": "markdown",
   "metadata": {},
   "source": [
    "Let's make a prediction for this new input against the model we created:"
   ]
  },
  {
   "cell_type": "code",
   "execution_count": null,
   "metadata": {
    "collapsed": false
   },
   "outputs": [],
   "source": [
    "prediction = api.create_prediction(model, new_input)\n",
    "print \"Prediction: \",prediction['object']['output']"
   ]
  },
  {
   "cell_type": "markdown",
   "metadata": {},
   "source": [
    "Here's the same thing on one single line:"
   ]
  },
  {
   "cell_type": "code",
   "execution_count": null,
   "metadata": {
    "collapsed": false
   },
   "outputs": [],
   "source": [
    "print \"Value: \",api.create_prediction(model, {\"bedrooms\": 4, \"full_bathrooms\": 4, \"type\": \"Single Family Home\", \"size_sqft\": 1500})['object']['output'],\" USD\""
   ]
  },
  {
   "cell_type": "markdown",
   "metadata": {},
   "source": [
    "# Learn more\n",
    "\n",
    "This was just an overview of the basics of Machine Learning and of BigML's core functionalities. Check out [Bootstrapping Machine Learning](https://louis-dorard.squarespace.com/machine-learning-book) (http://louisdorard.com/machine-learning-book) to learn more about Prediction APIs, how to apply ML to your domain, how to prepare your data CSV file and how to integrate predictions in your app or in your business.\n",
    "\n"
   ]
  }
 ],
 "metadata": {
  "kernelspec": {
   "display_name": "Python 2",
   "language": "python",
   "name": "python2"
  },
  "language_info": {
   "codemirror_mode": {
    "name": "ipython",
    "version": 2
   },
   "file_extension": ".py",
   "mimetype": "text/x-python",
   "name": "python",
   "nbconvert_exporter": "python",
   "pygments_lexer": "ipython2",
   "version": "2.7.6"
  }
 },
 "nbformat": 4,
 "nbformat_minor": 0
}
