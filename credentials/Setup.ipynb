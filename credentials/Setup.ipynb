{
 "cells": [
  {
   "cell_type": "markdown",
   "metadata": {},
   "source": [
    "### Delete previous files (if existing)"
   ]
  },
  {
   "cell_type": "code",
   "execution_count": null,
   "metadata": {
    "collapsed": false
   },
   "outputs": [],
   "source": [
    "# Uncomment as needed\n",
    "\n",
    "# BigML\n",
    "#rm bigml.bashrc\n",
    "\n",
    "# Google\n",
    "#rm gpred.bashrc\n",
    "#rm gpred_oauth.json\n",
    "#rm gpred_service_account.json"
   ]
  },
  {
   "cell_type": "markdown",
   "metadata": {
    "collapsed": true
   },
   "source": [
    "### BigML\n",
    "Your BigML username and API key can be found at https://bigml.com/account/apikey. Fill them in in the first two lines below (between the quotation marks."
   ]
  },
  {
   "cell_type": "code",
   "execution_count": null,
   "metadata": {
    "collapsed": false
   },
   "outputs": [],
   "source": [
    "export user=\"\"\n",
    "export key=\"\" \n",
    "\n",
    "echo \"export BIGML_USERNAME=$user\" >> bigml.bashrc\n",
    "echo \"export BIGML_API_KEY=$key\" >> bigml.bashrc\n",
    "echo \"export BIGML_AUTH=username=\"$user\"\\;api_key=\"$key\"\" >> bigml.bashrc"
   ]
  },
  {
   "cell_type": "markdown",
   "metadata": {},
   "source": [
    "### Google\n",
    "\n",
    "Create a new project in the [Google Developers Console](https://code.google.com/apis/console) or use an existing one. Activate [billing](https://code.google.com/apis/console/#:billing) (enter your Credit Card information, even though there's free quota — the paid subscription is $10/month FYI).\n",
    "\n",
    "Fill in your project number and your project ID in the first two lines below."
   ]
  },
  {
   "cell_type": "code",
   "execution_count": null,
   "metadata": {
    "collapsed": false
   },
   "outputs": [],
   "source": [
    "export google_project_number=\"\"\n",
    "export google_project_id=\"\"\n",
    "echo \"export GPRED_PROJECT_NUMBER=$google_project_number\" >> gpred.bashrc\n",
    "echo \"export GPRED_PROJECT_ID=$google_project_id\" >> gpred.bashrc"
   ]
  },
  {
   "cell_type": "markdown",
   "metadata": {},
   "source": [
    "Use link in output from block below to create a new service account and to get the json credentials file:\n",
    "\n",
    "* Click on \"Create\"\n",
    "* Rename the downloaded file to gpred_service_account.json and put it in this directory"
   ]
  },
  {
   "cell_type": "code",
   "execution_count": null,
   "metadata": {
    "collapsed": false
   },
   "outputs": [],
   "source": [
    "echo \"https://console.developers.google.com/project/$google_project_number/apiui/credential/serviceaccount\""
   ]
  },
  {
   "cell_type": "code",
   "execution_count": null,
   "metadata": {
    "collapsed": false
   },
   "outputs": [],
   "source": [
    "echo \"Once you have the json credentials file, move it to `pwd`/gpred_service_account.json\""
   ]
  },
  {
   "cell_type": "markdown",
   "metadata": {},
   "source": [
    "#### Google Cloud Sorage\n",
    "All we need to do is to create a boto config file for later use in [gspythonlibrary](https://cloud.google.com/storage/docs/gspythonlibrary)."
   ]
  },
  {
   "cell_type": "code",
   "execution_count": null,
   "metadata": {
    "collapsed": false
   },
   "outputs": [],
   "source": [
    "FOO=\"[Credentials]\n",
    "gs_service_key_file = `pwd`/gpred_service_account.json\n",
    "[Boto]\n",
    "https_validate_certificates = True\n",
    "[GSUtil]\n",
    "content_language = en\n",
    "default_api_version = 2\n",
    "default_project_id = $google_project_id\n",
    "[OAuth2]\n",
    "\"\n",
    "printf '%s\\n' \"$FOO\" > ~/.boto\n",
    "chmod 0400 ~/.boto"
   ]
  },
  {
   "cell_type": "markdown",
   "metadata": {},
   "source": [
    "#### Google Prediction API\n",
    "Use link in output from running block below to activate Google Prediction API in your project."
   ]
  },
  {
   "cell_type": "code",
   "execution_count": null,
   "metadata": {
    "collapsed": true
   },
   "outputs": [],
   "source": [
    "echo \"https://console.developers.google.com/project/$google_project_number/apiui/apis/library\""
   ]
  },
  {
   "cell_type": "markdown",
   "metadata": {},
   "source": [
    "The line below creates oauth tokens from the service account credentials, which we we will later use to authenticate and initialize the Google Prediction API wrapper."
   ]
  },
  {
   "cell_type": "code",
   "execution_count": null,
   "metadata": {
    "collapsed": false
   },
   "outputs": [],
   "source": [
    "python create_gpred_oauth.py"
   ]
  },
  {
   "cell_type": "markdown",
   "metadata": {},
   "source": [
    "View tokens file:"
   ]
  },
  {
   "cell_type": "code",
   "execution_count": null,
   "metadata": {
    "collapsed": false
   },
   "outputs": [],
   "source": [
    "export GPRED_OAUTH_FILE=`pwd`/gpred_oauth.json\n",
    "echo \"export GPRED_OAUTH_FILE=`pwd`/gpred_oauth.json\" >> gpred.bashrc\n",
    "cat $GPRED_OAUTH_FILE"
   ]
  },
  {
   "cell_type": "markdown",
   "metadata": {},
   "source": [
    "### Storing (optional)\n",
    "For easier configuration on another (virtual?) machine, you can store these files in a private git directory:\n",
    "\n",
    "* bigml.bashrc\n",
    "* gpred.bashrc\n",
    "* gpred_service_account.json\n",
    "* gpred_oauth.json"
   ]
  },
  {
   "cell_type": "markdown",
   "metadata": {},
   "source": [
    "### Add all to bashrc"
   ]
  },
  {
   "cell_type": "code",
   "execution_count": null,
   "metadata": {
    "collapsed": false
   },
   "outputs": [],
   "source": [
    "cat bigml.bashrc >> ~/.bashrc\n",
    "cat gpred.bashrc >> ~/.bashrc"
   ]
  },
  {
   "cell_type": "markdown",
   "metadata": {},
   "source": [
    "Go back to the command line and run\n",
    "\n",
    "> source ~/.bashrc\n",
    "\n",
    "Restart kernel in other Bash notebooks that are already opened, in order to get the .bashrc changes\n",
    "\n",
    "### Add environment variables to jupyter\n",
    "\n",
    "Using environment variables from jupyter notebooks isn't straightforward because [_service_ strips all environment variables but TERM, PATH and LANG](http://unix.stackexchange.com/questions/44370/how-to-make-unix-service-see-environment-variables). I haven't found a way to automatically change this yet, but the workaround is to edit the script in /etc/init/jupyter.conf to add the contents of bigml.bashrc and gpred.bashrc just before these two lines:\n",
    "\n",
    "    echo 621 > /var/run/ipython_start.pid\n",
    "    exec jupyter-notebook --config='/root/.ipython/profile_nbserver/ipython_config.py'\n",
    "\n",
    "You should then close all notebooks and restart jupyter with the following command executed as root:\n",
    "\n",
    "> service jupyter restart\n"
   ]
  },
  {
   "cell_type": "markdown",
   "metadata": {},
   "source": [
    "### [Test your credentials!](/notebooks/bml-base/credentials/Test.ipynb)"
   ]
  }
 ],
 "metadata": {
  "kernelspec": {
   "display_name": "Bash",
   "language": "bash",
   "name": "bash"
  },
  "language_info": {
   "codemirror_mode": "shell",
   "file_extension": ".sh",
   "mimetype": "text/x-sh",
   "name": "bash"
  }
 },
 "nbformat": 4,
 "nbformat_minor": 0
}
