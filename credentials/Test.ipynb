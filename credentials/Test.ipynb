{
 "cells": [
  {
   "cell_type": "markdown",
   "metadata": {
    "collapsed": false
   },
   "source": [
    "# Credentials\n",
    "\n",
    "Make sure to go through [Setup](/notebooks/credentials/Setup.ipynb) first!\n",
    "\n",
    "Let's check that the environment variables have been set... We'll just try one:"
   ]
  },
  {
   "cell_type": "code",
   "execution_count": null,
   "metadata": {
    "collapsed": false
   },
   "outputs": [],
   "source": [
    "%env GPRED_PROJECT_ID"
   ]
  },
  {
   "cell_type": "markdown",
   "metadata": {},
   "source": [
    "# Google Cloud Storage\n",
    "Let's see if we can create a bucket with boto (using credentials, project ID, etc. specified in boto config file)..."
   ]
  },
  {
   "cell_type": "code",
   "execution_count": null,
   "metadata": {
    "collapsed": false
   },
   "outputs": [],
   "source": [
    "import datetime\n",
    "now = datetime.datetime.now()\n",
    "BUCKET_NAME = 'test_' + now.strftime(\"%Y-%m-%d\") # lower case letters required, no upper case allowed\n",
    "\n",
    "import boto\n",
    "import gcs_oauth2_boto_plugin\n",
    "project_id = %env GPRED_PROJECT_ID\n",
    "header_values = {\"x-goog-project-id\": project_id}\n",
    "boto.storage_uri(BUCKET_NAME, 'gs').create_bucket(headers=header_values)"
   ]
  },
  {
   "cell_type": "markdown",
   "metadata": {},
   "source": [
    "Listing existing buckets..."
   ]
  },
  {
   "cell_type": "code",
   "execution_count": null,
   "metadata": {
    "collapsed": false
   },
   "outputs": [],
   "source": [
    "uri = boto.storage_uri('', 'gs')\n",
    "# If the default project is defined, call get_all_buckets() without arguments.\n",
    "for bucket in uri.get_all_buckets(headers=header_values):\n",
    "  print bucket.name"
   ]
  },
  {
   "cell_type": "markdown",
   "metadata": {},
   "source": [
    "Upload a file to the new bucket"
   ]
  },
  {
   "cell_type": "code",
   "execution_count": null,
   "metadata": {
    "collapsed": false
   },
   "outputs": [],
   "source": [
    "import os\n",
    "os.system(\"echo 'hello!' > newfile\")\n",
    "filename = 'newfile'\n",
    "boto.storage_uri(BUCKET_NAME + '/' + filename, 'gs').new_key().set_contents_from_file(open(filename))"
   ]
  },
  {
   "cell_type": "markdown",
   "metadata": {},
   "source": [
    "See contents of the bucket on the web interface (URL will be outputted below)"
   ]
  },
  {
   "cell_type": "code",
   "execution_count": null,
   "metadata": {
    "collapsed": false
   },
   "outputs": [],
   "source": [
    "print \"https://console.developers.google.com/project/\" + project_id + \"/storage/browser/\" + BUCKET_NAME + \"/?authuser=0\""
   ]
  },
  {
   "cell_type": "markdown",
   "metadata": {},
   "source": [
    "# Google Prediction\n",
    "## Initialize API wrapper"
   ]
  },
  {
   "cell_type": "code",
   "execution_count": 5,
   "metadata": {
    "collapsed": false
   },
   "outputs": [],
   "source": [
    "import googleapiclient.gpred as gpred\n",
    "oauth_file = %env GPRED_OAUTH_FILE\n",
    "api = gpred.api(oauth_file)"
   ]
  },
  {
   "cell_type": "markdown",
   "metadata": {},
   "source": [
    "## Making predictions against a hosted model"
   ]
  },
  {
   "cell_type": "markdown",
   "metadata": {},
   "source": [
    "Let's use the sample.sentiment hosted model (made publicly available by Google)"
   ]
  },
  {
   "cell_type": "code",
   "execution_count": null,
   "metadata": {
    "collapsed": false
   },
   "outputs": [],
   "source": [
    "# projectname has to be 414649711441\n",
    "prediction_request = api.hostedmodels().predict(project='414649711441',\n",
    "                                     hostedModelName='sample.sentiment',\n",
    "                                     body={'input': {'csvInstance': ['I hate that stuff is so stupid']}})\n",
    "\n",
    "result = prediction_request.execute()\n",
    "# We can print the raw result\n",
    "print result"
   ]
  }
 ],
 "metadata": {
  "kernelspec": {
   "display_name": "Python 2",
   "language": "python",
   "name": "python2"
  },
  "language_info": {
   "codemirror_mode": {
    "name": "ipython",
    "version": 2
   },
   "file_extension": ".py",
   "mimetype": "text/x-python",
   "name": "python",
   "nbconvert_exporter": "python",
   "pygments_lexer": "ipython2",
   "version": "2.7.6"
  }
 },
 "nbformat": 4,
 "nbformat_minor": 0
}
