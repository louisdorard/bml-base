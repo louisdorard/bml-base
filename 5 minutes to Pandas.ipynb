{
 "cells": [
  {
   "cell_type": "markdown",
   "metadata": {},
   "source": [
    "# 5 minutes to Pandas\n",
    "\n",
    "This notebook shows how to use [Pandas](https://pandas.pydata.org/) to clean data scraped from [realtor.com](https://www.realtor.com) with [import.io](https://import.io). The idea is then to use this data with BigML to build a real estate pricing model. Read more about the whole process on this import.io blog post: [Become a Data Scientist in an hour](http://blog.import.io/post/become-a-data-scientist-in-an-hour) (screencast inside).\n",
    "\n",
    "The data we're working on comes from import.io. You can [browse it on Google Spreadsheets](https://docs.google.com/spreadsheets/d/12ac9fqSLdgR18pc-BUGBQeZ-xYk_BecflLHhp5A3SqE/edit?usp=sharing) and you can [download it as a CSV file](https://bml-data.s3.amazonaws.com/realtor_importio_raw.csv). When browsing the data we notice several issues:\n",
    "\n",
    " * some essential values are missing or some surface values are 0 => we should drop the corresponding rows\n",
    " * missing values for the number of half bathrooms should actually be 0 => we should fill in these missing values\n",
    " * there are mixed units in surface values (some small and some much larger) => we should bring all values to the same unit\n",
    " \n",
    "Besides, we should run some standard procedures: dropping columns we're not interested in, removing duplicates, shuffling instances randomly (so that they are not ordered in any particular way and we can get representative subsets of the data by just splitting it).\n",
    "\n",
    "\n",
    "## Reading a csv file"
   ]
  },
  {
   "cell_type": "code",
   "execution_count": null,
   "metadata": {
    "collapsed": false
   },
   "outputs": [],
   "source": [
    "import pandas as pd\n",
    "df = pd.read_csv('https://bml-data.s3.amazonaws.com/realtor_importio_raw.csv', index_col=False, encoding='utf8') # no index column in this csv file"
   ]
  },
  {
   "cell_type": "markdown",
   "metadata": {},
   "source": [
    "Let's see what the first lines of the data look like."
   ]
  },
  {
   "cell_type": "code",
   "execution_count": null,
   "metadata": {
    "collapsed": false
   },
   "outputs": [],
   "source": [
    "df[:5]"
   ]
  },
  {
   "cell_type": "markdown",
   "metadata": {},
   "source": [
    "## Dropping columns"
   ]
  },
  {
   "cell_type": "code",
   "execution_count": null,
   "metadata": {
    "collapsed": false
   },
   "outputs": [],
   "source": [
    "df = df[['address', 'bedrooms', 'full_bathrooms', 'half_bathrooms', 'type', 'size_sqft', 'lot_size', 'price']] # only keep the columns we're interested in and reorder them to have the price (target output) at the end\n",
    "df[:5]"
   ]
  },
  {
   "cell_type": "markdown",
   "metadata": {},
   "source": [
    "## Dropping duplicates"
   ]
  },
  {
   "cell_type": "markdown",
   "metadata": {},
   "source": [
    "How many instances (rows)?"
   ]
  },
  {
   "cell_type": "code",
   "execution_count": null,
   "metadata": {
    "collapsed": false
   },
   "outputs": [],
   "source": [
    "len(df.index)"
   ]
  },
  {
   "cell_type": "markdown",
   "metadata": {},
   "source": [
    "Let's remove duplicates..."
   ]
  },
  {
   "cell_type": "code",
   "execution_count": null,
   "metadata": {
    "collapsed": false
   },
   "outputs": [],
   "source": [
    "df.drop_duplicates(inplace=True)"
   ]
  },
  {
   "cell_type": "markdown",
   "metadata": {},
   "source": [
    "How many instances now?"
   ]
  },
  {
   "cell_type": "code",
   "execution_count": null,
   "metadata": {
    "collapsed": false
   },
   "outputs": [],
   "source": [
    "len(df.index)"
   ]
  },
  {
   "cell_type": "markdown",
   "metadata": {},
   "source": [
    "## Dropping bad rows"
   ]
  },
  {
   "cell_type": "markdown",
   "metadata": {},
   "source": [
    "Ditch instances/rows where\n",
    "\n",
    " * there is no value for the number of bedrooms or for the number of bathrooms (as is the case for properties that are just land)\n",
    " * the surface is 0"
   ]
  },
  {
   "cell_type": "code",
   "execution_count": null,
   "metadata": {
    "collapsed": false
   },
   "outputs": [],
   "source": [
    "df.dropna(subset=['bedrooms', 'full_bathrooms', 'size_sqft'], how='any', inplace = True) # drop rows with empty values\n",
    "df = df[df['size_sqft'] > 0]"
   ]
  },
  {
   "cell_type": "markdown",
   "metadata": {},
   "source": [
    "How many instances now?"
   ]
  },
  {
   "cell_type": "code",
   "execution_count": null,
   "metadata": {
    "collapsed": false
   },
   "outputs": [],
   "source": [
    "len(df.index)"
   ]
  },
  {
   "cell_type": "markdown",
   "metadata": {},
   "source": [
    "## Filling in missing values"
   ]
  },
  {
   "cell_type": "markdown",
   "metadata": {},
   "source": [
    "When the number of half bathrooms is missing from the data, it actually means that there are none, i.e. there should be a zero."
   ]
  },
  {
   "cell_type": "code",
   "execution_count": null,
   "metadata": {
    "collapsed": false
   },
   "outputs": [],
   "source": [
    "df['half_bathrooms'].fillna(0, inplace = True)"
   ]
  },
  {
   "cell_type": "markdown",
   "metadata": {},
   "source": [
    "Let's look again at the first lines of the data."
   ]
  },
  {
   "cell_type": "code",
   "execution_count": null,
   "metadata": {
    "collapsed": false
   },
   "outputs": [],
   "source": [
    "df[:5]"
   ]
  },
  {
   "cell_type": "markdown",
   "metadata": {},
   "source": [
    "## Bringing all surface values to the same unit"
   ]
  },
  {
   "cell_type": "markdown",
   "metadata": {},
   "source": [
    "What's the smallest livable surface?"
   ]
  },
  {
   "cell_type": "code",
   "execution_count": null,
   "metadata": {
    "collapsed": false
   },
   "outputs": [],
   "source": [
    "min_size_sqft = df['size_sqft'].min()\n",
    "min_size_sqft"
   ]
  },
  {
   "cell_type": "markdown",
   "metadata": {},
   "source": [
    "What's the smallet lot surface?"
   ]
  },
  {
   "cell_type": "code",
   "execution_count": null,
   "metadata": {
    "collapsed": false
   },
   "outputs": [],
   "source": [
    "df['lot_size'].min()"
   ]
  },
  {
   "cell_type": "markdown",
   "metadata": {},
   "source": [
    "Some instances have a lot size value in square feet and others in acres. We need to convert everything to square feet. For this we first define a conversion function that takes a row as parameter."
   ]
  },
  {
   "cell_type": "code",
   "execution_count": null,
   "metadata": {
    "collapsed": false
   },
   "outputs": [],
   "source": [
    "def convert_lot_size_surface(row):\n",
    "    v = row['lot_size']\n",
    "    if v < min_size_sqft: # value is too low: trigger conversion from acres to square feet\n",
    "        return v * 43560 \n",
    "    else:\n",
    "        return v"
   ]
  },
  {
   "cell_type": "markdown",
   "metadata": {},
   "source": [
    "We can then apply this function to all the rows and check what the minimum lot size value is now."
   ]
  },
  {
   "cell_type": "code",
   "execution_count": null,
   "metadata": {
    "collapsed": false
   },
   "outputs": [],
   "source": [
    "df['lot_size'] = df.apply(convert_lot_size_surface, axis = 1)\n",
    "df['lot_size'].min()"
   ]
  },
  {
   "cell_type": "markdown",
   "metadata": {},
   "source": [
    "## Random shuffling of rows"
   ]
  },
  {
   "cell_type": "markdown",
   "metadata": {},
   "source": [
    "Shuffle instances randomly so that we're sure they are not ordered in any particular way and we'll be able to create representative subsets of the data by just splitting. This is useful for Machine Learning purposes where we split into a training and a test set."
   ]
  },
  {
   "cell_type": "code",
   "execution_count": null,
   "metadata": {
    "collapsed": false
   },
   "outputs": [],
   "source": [
    "import numpy as np\n",
    "df = df.reindex(np.random.permutation(df.index))"
   ]
  },
  {
   "cell_type": "markdown",
   "metadata": {},
   "source": [
    "Checking again the beginning of the data:"
   ]
  },
  {
   "cell_type": "code",
   "execution_count": null,
   "metadata": {
    "collapsed": false
   },
   "outputs": [],
   "source": [
    "df[:5]"
   ]
  },
  {
   "cell_type": "markdown",
   "metadata": {},
   "source": [
    "We save the result as a new csv file."
   ]
  },
  {
   "cell_type": "code",
   "execution_count": null,
   "metadata": {
    "collapsed": false
   },
   "outputs": [],
   "source": [
    "df.to_csv('realtor_importio_cleaned.csv', encoding='utf8')"
   ]
  },
  {
   "cell_type": "markdown",
   "metadata": {},
   "source": [
    "## Machine Learning\n",
    "\n",
    "We can use this data to create a Machine Learning model of real estate pricing in just 5 minutes (see other notebook in this directory)."
   ]
  }
 ],
 "metadata": {
  "kernelspec": {
   "display_name": "Python 2",
   "language": "python",
   "name": "python2"
  },
  "language_info": {
   "codemirror_mode": {
    "name": "ipython",
    "version": 2
   },
   "file_extension": ".py",
   "mimetype": "text/x-python",
   "name": "python",
   "nbconvert_exporter": "python",
   "pygments_lexer": "ipython2",
   "version": "2.7.6"
  }
 },
 "nbformat": 4,
 "nbformat_minor": 0
}
